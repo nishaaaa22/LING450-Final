{
 "cells": [
  {
   "cell_type": "code",
   "execution_count": 7,
   "id": "2f5be136",
   "metadata": {},
   "outputs": [
    {
     "name": "stdout",
     "output_type": "stream",
     "text": [
      "                                              Comment VADER Rating  \\\n",
      "0   I've found likeable things in every city I've ...      Positve   \n",
      "1   kinda wish this 'Calgary is a redneck backwate...     Negative   \n",
      "2   You will experience this anywhere you go that ...    Positive    \n",
      "3    insurance (property and car) is ridiculous here.     Negative   \n",
      "4   Nah, everything else is more expensive to comp...     Negative   \n",
      "..                                                ...          ...   \n",
      "83  Short answer: yes, it’s worth it. Long answer:...     positive   \n",
      "84  If you are trans, you WILL make friends here. ...     positive   \n",
      "85  Socializing here is tricky, though. If you cho...     negative   \n",
      "86  If you can remember that and afford this city,...     positive   \n",
      "87  Until you mentioned it now, I never realized w...     positive   \n",
      "\n",
      "   Manual Rating  Match  \n",
      "0      Positive   False  \n",
      "1       Negative   True  \n",
      "2       Neutral   False  \n",
      "3       Negative   True  \n",
      "4      Negative   False  \n",
      "..           ...    ...  \n",
      "83      Negative  False  \n",
      "84      Positive  False  \n",
      "85       Neutral  False  \n",
      "86      Positive  False  \n",
      "87       Neutral  False  \n",
      "\n",
      "[88 rows x 4 columns]\n",
      "VADER Rating Accuracy: 25.00%\n"
     ]
    }
   ],
   "source": [
    "import pandas as pd\n",
    "\n",
    "# Given file path for a CSV file\n",
    "file_path = 'C:\\\\Users\\\\User\\\\SDA490\\\\ManualVSVader.csv'\n",
    "\n",
    "# Read the CSV file\n",
    "df = pd.read_csv(file_path)\n",
    "\n",
    "# Assuming the DataFrame has columns 'VADER Rating' and 'Manual Rating'\n",
    "# Create a new column 'Match' to check if VADER Ratings match the Manual Ratings\n",
    "df['Match'] = df['VADER Rating'] == df['Manual Rating']\n",
    "\n",
    "# Calculate the number of matches\n",
    "matches = df['Match'].sum()\n",
    "\n",
    "# Calculate the total number of ratings compared\n",
    "total_comparisons = len(df)\n",
    "\n",
    "# Calculate the accuracy of VADER Ratings compared to Manual Ratings\n",
    "accuracy = matches / total_comparisons\n",
    "\n",
    "# Output the DataFrame and the accuracy\n",
    "print(df)\n",
    "print(f\"VADER Rating Accuracy: {accuracy:.2%}\")\n"
   ]
  },
  {
   "cell_type": "code",
   "execution_count": null,
   "id": "73c1c1b0",
   "metadata": {},
   "outputs": [],
   "source": []
  }
 ],
 "metadata": {
  "kernelspec": {
   "display_name": "Python 3 (ipykernel)",
   "language": "python",
   "name": "python3"
  },
  "language_info": {
   "codemirror_mode": {
    "name": "ipython",
    "version": 3
   },
   "file_extension": ".py",
   "mimetype": "text/x-python",
   "name": "python",
   "nbconvert_exporter": "python",
   "pygments_lexer": "ipython3",
   "version": "3.10.9"
  }
 },
 "nbformat": 4,
 "nbformat_minor": 5
}
